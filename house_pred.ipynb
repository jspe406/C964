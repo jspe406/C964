{
  "nbformat": 4,
  "nbformat_minor": 0,
  "metadata": {
    "colab": {
      "provenance": [],
      "toc_visible": true,
      "authorship_tag": "ABX9TyOdVqvJFsVVUiyfddS9t5ci",
      "include_colab_link": true
    },
    "kernelspec": {
      "name": "python3",
      "display_name": "Python 3"
    },
    "language_info": {
      "name": "python"
    }
  },
  "cells": [
    {
      "cell_type": "markdown",
      "metadata": {
        "id": "view-in-github",
        "colab_type": "text"
      },
      "source": [
        "<a href=\"https://colab.research.google.com/github/jspe406/C964/blob/main/house_pred.ipynb\" target=\"_parent\"><img src=\"https://colab.research.google.com/assets/colab-badge.svg\" alt=\"Open In Colab\"/></a>"
      ]
    },
    {
      "cell_type": "code",
      "source": [
        "import numpy as np\n",
        "import pandas as pd\n",
        "import matplotlib.pyplot as plt\n",
        "import seaborn as sns\n",
        "import sklearn.datasets\n",
        "from sklearn.model_selection import train_test_split\n",
        "from xgboost import XGBRegressor\n",
        "from sklearn import metrics"
      ],
      "metadata": {
        "id": "aTaqu--9b0GV"
      },
      "execution_count": null,
      "outputs": []
    },
    {
      "cell_type": "code",
      "source": [
        "# using built in data on California Housing Data from sklearn\n",
        "house_price_dataset = sklearn.datasets.fetch_california_housing()\n",
        "print(house_price_dataset)"
      ],
      "metadata": {
        "id": "xqIW2oXmb4Nu"
      },
      "execution_count": null,
      "outputs": []
    },
    {
      "cell_type": "markdown",
      "source": [
        "This needs to be converted to a pandas dataframe which will enable us to visualize, clean and use the data more efficiently"
      ],
      "metadata": {
        "id": "4RJDOGGLcKcg"
      }
    },
    {
      "cell_type": "code",
      "source": [
        "housing = pd.DataFrame(house_price_dataset.data, columns=house_price_dataset.feature_names)\n",
        "housing.head(10)"
      ],
      "metadata": {
        "id": "UF5PQcPocWnu"
      },
      "execution_count": null,
      "outputs": []
    },
    {
      "cell_type": "code",
      "source": [
        "# Add target column\n",
        "housing['Price'] = house_price_dataset.target\n",
        "housing.head(10)"
      ],
      "metadata": {
        "id": "n2S_yf9rdnjs"
      },
      "execution_count": null,
      "outputs": []
    },
    {
      "cell_type": "code",
      "source": [
        "# Check the number of rows and colums\n",
        "housing.shape"
      ],
      "metadata": {
        "id": "2sumas8uenmz"
      },
      "execution_count": null,
      "outputs": []
    },
    {
      "cell_type": "code",
      "source": [
        "# check for missing values\n",
        "housing.isnull().sum"
      ],
      "metadata": {
        "id": "lk13O8Oleonj"
      },
      "execution_count": null,
      "outputs": []
    },
    {
      "cell_type": "code",
      "source": [
        "# Statistical measures of the dataset\n",
        "housing.describe()"
      ],
      "metadata": {
        "id": "Lr69bqpze6mK"
      },
      "execution_count": null,
      "outputs": []
    },
    {
      "cell_type": "code",
      "source": [
        "# Correlation between various features in the dataset\n",
        "correlation = housing.corr()\n",
        "# Heatmap to understand the correlation\n",
        "plt.figure(figsize=(10,10))\n",
        "sns.heatmap(correlation, cbar=True, square=True, fmt='.1f', annot=True, annot_kws={'size':8}, cmap='Blues')"
      ],
      "metadata": {
        "id": "VZOMX-XhfBqL"
      },
      "execution_count": null,
      "outputs": []
    },
    {
      "cell_type": "code",
      "source": [
        "# Split the data and target\n",
        "X = housing.drop(['Price'], axis=1)\n",
        "Y = housing['Price']\n",
        "print(X)\n",
        "print(Y)"
      ],
      "metadata": {
        "id": "QmkC1BqDfI_N"
      },
      "execution_count": null,
      "outputs": []
    },
    {
      "cell_type": "code",
      "source": [
        "# Split the data into training data and test data\n",
        "X_train, X_test, Y_train, Y_test = train_test_split(X, Y, test_size=0.2, random_state=2)\n",
        "print(X.shape, X_train.shape, X_test.shape)"
      ],
      "metadata": {
        "id": "lOA9lFYTfbJu"
      },
      "execution_count": null,
      "outputs": []
    },
    {
      "cell_type": "code",
      "source": [
        "# Load the XGBoost Regressor for model training\n",
        "model = XGBRegressor()"
      ],
      "metadata": {
        "id": "-pXdFYGVfiHM"
      },
      "execution_count": null,
      "outputs": []
    },
    {
      "cell_type": "code",
      "source": [
        "# Training the model with X_train\n",
        "model.fit(X_train, Y_train)"
      ],
      "metadata": {
        "id": "-mj8yUR4fpRd"
      },
      "execution_count": null,
      "outputs": []
    },
    {
      "cell_type": "code",
      "source": [
        "# Accuracy for prediction on Training data\n",
        "training_data_prediction = model.predict(X_train)\n",
        "print(training_data_prediction)"
      ],
      "metadata": {
        "id": "KGFfurbNfxCL"
      },
      "execution_count": null,
      "outputs": []
    },
    {
      "cell_type": "code",
      "source": [
        "# R squared Error\n",
        "r2_train = metrics.r2_score(Y_train, training_data_prediction)\n",
        "print('R squared Error: ', r2_train)\n",
        "\n",
        "# Mean Absolute Error\n",
        "mae_train = metrics.mean_absolute_error(Y_train, training_data_prediction)\n",
        "print('Mean Absolute Error: ', mae_train)"
      ],
      "metadata": {
        "id": "ZgZpXGwXf42j"
      },
      "execution_count": null,
      "outputs": []
    },
    {
      "cell_type": "code",
      "source": [
        "# Accuracy for prediction on test data\n",
        "test_data_prediction = model.predict(X_test)\n",
        "print(test_data_prediction)"
      ],
      "metadata": {
        "id": "Uk6jMN5dgS0T"
      },
      "execution_count": null,
      "outputs": []
    },
    {
      "cell_type": "code",
      "source": [
        "# R squared Error\n",
        "r2_test = metrics.r2_score(Y_test, test_data_prediction)\n",
        "print('R squared Error: ', r2_test)\n",
        "\n",
        "# Mean Absolute Error\n",
        "mae_test = metrics.mean_absolute_error(Y_test, test_data_prediction)\n",
        "print('Mean Absolute Error: ', mae_test)"
      ],
      "metadata": {
        "id": "Dr3wJa3VgXaM"
      },
      "execution_count": null,
      "outputs": []
    },
    {
      "cell_type": "markdown",
      "source": [
        "## 1. Scatter Plot with Regression Line:\n",
        "This plot compares the actual house prices (Y_test) with the predicted house prices (test_data_prediction) from the model. It also includes a regression line which shows the general trend of the model's predictions. Ideally, the points should cluster tightly around the regression line, indicating good predictions. If the points are scattered widely or deviate from the line significantly, it implies that the model is not accurately capturing the relationship between the features and the target."
      ],
      "metadata": {
        "id": "hdoQQ2oPh-pC"
      }
    },
    {
      "cell_type": "code",
      "source": [
        "# 1. Scatter Plot with Regression Line\n",
        "plt.figure(figsize=(8, 6))\n",
        "sns.regplot(x=Y_test, y=test_data_prediction, scatter_kws={'alpha':0.5})\n",
        "plt.xlabel(\"Actual Price\")\n",
        "plt.ylabel(\"Predicted Price\")\n",
        "plt.title(\"Actual vs Predicted Price (Test Data)\")\n",
        "plt.show()"
      ],
      "metadata": {
        "id": "9MD7xFwOh_KN"
      },
      "execution_count": null,
      "outputs": []
    },
    {
      "cell_type": "markdown",
      "source": [
        "## 2. Residual Plot:\n",
        "The residuals are the differences between the actual prices and the predicted prices (Y_test - test_data_prediction). This plot shows the residuals against the predicted values. A good model should have residuals randomly scattered around zero, with no clear patterns or trends. If we see patterns in the residuals, it suggests that the model is systematically under- or over-estimating the prices in certain regions. For example, if the residuals have a curved shape, it might indicate that the model's predictions are not linear."
      ],
      "metadata": {
        "id": "4mjFN_aOiQLc"
      }
    },
    {
      "cell_type": "code",
      "source": [
        "# 2. Residual Plot\n",
        "plt.figure(figsize=(8, 6))\n",
        "residuals = Y_test - test_data_prediction\n",
        "plt.scatter(test_data_prediction, residuals, alpha=0.5)\n",
        "plt.axhline(y=0, color='r', linestyle='--')\n",
        "plt.xlabel(\"Predicted Price\")\n",
        "plt.ylabel(\"Residuals\")\n",
        "plt.title(\"Residual Plot (Test Data)\")\n",
        "plt.show()"
      ],
      "metadata": {
        "id": "RIS1j2XaiXy8"
      },
      "execution_count": null,
      "outputs": []
    },
    {
      "cell_type": "markdown",
      "source": [
        "## 3. Distribution of Residuals:\n",
        "This histogram shows the distribution of the residuals. A well-performing model should have residuals that are normally distributed with a mean of zero. If the distribution is skewed or has a large spread, it indicates that the model's errors are not consistent or reliable. A normal distribution implies that the model's errors are random and unbiased, which is desired for accurate predictions.\n"
      ],
      "metadata": {
        "id": "0zzt6YjKier_"
      }
    },
    {
      "cell_type": "code",
      "source": [
        "# 3. Distribution of Residuals\n",
        "plt.figure(figsize=(8, 6))\n",
        "sns.histplot(residuals, kde=True)\n",
        "plt.xlabel(\"Residuals\")\n",
        "plt.ylabel(\"Frequency\")\n",
        "plt.title(\"Distribution of Residuals (Test Data)\")\n",
        "plt.show()"
      ],
      "metadata": {
        "id": "a_iLleZ9itXS"
      },
      "execution_count": null,
      "outputs": []
    },
    {
      "cell_type": "markdown",
      "source": [
        "In summary, these three plots help us assess the performance and potential issues of the trained model by visually inspecting the relationship between actual and predicted values, the presence of patterns in the errors, and the distribution of the errors."
      ],
      "metadata": {
        "id": "L7_J0DSnit6C"
      }
    },
    {
      "cell_type": "code",
      "source": [
        "# Create a new column in the housing dataframe with the predicted prices\n",
        "housing['Predicted_Price'] = model.predict(X)\n",
        "\n",
        "# Display the updated dataframe with the predicted prices\n",
        "print(housing.head())\n"
      ],
      "metadata": {
        "id": "imS9JWnGlxNO"
      },
      "execution_count": null,
      "outputs": []
    },
    {
      "cell_type": "code",
      "source": [
        "#@title Interactive Querying with ipywidgets\n",
        "\n",
        "import ipywidgets as widgets\n",
        "from IPython.display import display\n",
        "\n",
        "# Function to filter the DataFrame based on user input\n",
        "def filter_data(MedInc, HouseAge):\n",
        "  filtered_df = housing[(housing['MedInc'] >= MedInc) & (housing['HouseAge'] <= HouseAge)]\n",
        "  print(filtered_df.head())\n",
        "\n",
        "\n",
        "# Create widgets for user input\n",
        "medinc_slider = widgets.FloatSlider(value=2, min=0, max=15, step=0.1, description='MedInc:')\n",
        "houseage_slider = widgets.IntSlider(value=50, min=0, max=50, step=1, description='HouseAge:')\n",
        "\n",
        "# Create an output widget to display the filtered data\n",
        "output = widgets.Output()\n",
        "\n",
        "# Define a function to handle widget interactions\n",
        "def on_value_change(change):\n",
        "  with output:\n",
        "    output.clear_output()\n",
        "    filter_data(medinc_slider.value, houseage_slider.value)\n",
        "\n",
        "# Observe the widget values for changes\n",
        "medinc_slider.observe(on_value_change, names='value')\n",
        "houseage_slider.observe(on_value_change, names='value')\n",
        "\n",
        "\n",
        "# Display widgets and output\n",
        "display(medinc_slider, houseage_slider, output)\n"
      ],
      "metadata": {
        "id": "mioFsq5qldaA"
      },
      "execution_count": null,
      "outputs": []
    }
  ]
}